{
  "nbformat": 4,
  "nbformat_minor": 0,
  "metadata": {
    "colab": {
      "provenance": [],
      "gpuType": "T4",
      "mount_file_id": "https://github.com/yezzzzin/LIEON_preprocessing/blob/main/vsa.ipynb",
      "authorship_tag": "ABX9TyNIVTvJelLx4+17SSSg3WYE",
      "include_colab_link": true
    },
    "kernelspec": {
      "name": "python3",
      "display_name": "Python 3"
    },
    "language_info": {
      "name": "python"
    },
    "accelerator": "GPU"
  },
  "cells": [
    {
      "cell_type": "markdown",
      "metadata": {
        "id": "view-in-github",
        "colab_type": "text"
      },
      "source": [
        "<a href=\"https://colab.research.google.com/github/yezzzzin/LIEON_preprocessing/blob/main/vsa.ipynb\" target=\"_parent\"><img src=\"https://colab.research.google.com/assets/colab-badge.svg\" alt=\"Open In Colab\"/></a>"
      ]
    },
    {
      "cell_type": "code",
      "source": [
        "!pip install opensmile"
      ],
      "metadata": {
        "id": "gRDQp2XeqraH",
        "outputId": "14a8c91c-8118-4ce5-9d54-57d6619dcfa6",
        "colab": {
          "base_uri": "https://localhost:8080/"
        }
      },
      "execution_count": null,
      "outputs": [
        {
          "output_type": "stream",
          "name": "stdout",
          "text": [
            "Collecting opensmile\n",
            "  Downloading opensmile-2.5.0-py3-none-manylinux_2_17_x86_64.whl (996 kB)\n",
            "\u001b[2K     \u001b[90m━━━━━━━━━━━━━━━━━━━━━━━━━━━━━━━━━━━━━━━━\u001b[0m \u001b[32m996.2/996.2 kB\u001b[0m \u001b[31m6.3 MB/s\u001b[0m eta \u001b[36m0:00:00\u001b[0m\n",
            "\u001b[?25hCollecting audobject>=0.6.1 (from opensmile)\n",
            "  Downloading audobject-0.7.11-py3-none-any.whl (43 kB)\n",
            "\u001b[2K     \u001b[90m━━━━━━━━━━━━━━━━━━━━━━━━━━━━━━━━━━━━━━━━\u001b[0m \u001b[32m44.0/44.0 kB\u001b[0m \u001b[31m6.6 MB/s\u001b[0m eta \u001b[36m0:00:00\u001b[0m\n",
            "\u001b[?25hCollecting audinterface>=0.7.0 (from opensmile)\n",
            "  Downloading audinterface-1.2.1-py3-none-any.whl (66 kB)\n",
            "\u001b[2K     \u001b[90m━━━━━━━━━━━━━━━━━━━━━━━━━━━━━━━━━━━━━━━━\u001b[0m \u001b[32m66.8/66.8 kB\u001b[0m \u001b[31m9.9 MB/s\u001b[0m eta \u001b[36m0:00:00\u001b[0m\n",
            "\u001b[?25hCollecting audeer>=1.18.0 (from audinterface>=0.7.0->opensmile)\n",
            "  Downloading audeer-2.0.0-py3-none-any.whl (39 kB)\n",
            "Collecting audformat<2.0.0,>=1.0.1 (from audinterface>=0.7.0->opensmile)\n",
            "  Downloading audformat-1.1.3-py3-none-any.whl (141 kB)\n",
            "\u001b[2K     \u001b[90m━━━━━━━━━━━━━━━━━━━━━━━━━━━━━━━━━━━━━━━━\u001b[0m \u001b[32m141.7/141.7 kB\u001b[0m \u001b[31m20.9 MB/s\u001b[0m eta \u001b[36m0:00:00\u001b[0m\n",
            "\u001b[?25hCollecting audiofile>=1.3.0 (from audinterface>=0.7.0->opensmile)\n",
            "  Downloading audiofile-1.4.0-py3-none-any.whl (1.1 MB)\n",
            "\u001b[2K     \u001b[90m━━━━━━━━━━━━━━━━━━━━━━━━━━━━━━━━━━━━━━━━\u001b[0m \u001b[32m1.1/1.1 MB\u001b[0m \u001b[31m24.4 MB/s\u001b[0m eta \u001b[36m0:00:00\u001b[0m\n",
            "\u001b[?25hCollecting audmath>=1.3.0 (from audinterface>=0.7.0->opensmile)\n",
            "  Downloading audmath-1.4.0-py3-none-any.whl (23 kB)\n",
            "Collecting audresample<2.0.0,>=1.1.0 (from audinterface>=0.7.0->opensmile)\n",
            "  Downloading audresample-1.3.3-py3-none-manylinux_2_17_x86_64.whl (138 kB)\n",
            "\u001b[2K     \u001b[90m━━━━━━━━━━━━━━━━━━━━━━━━━━━━━━━━━━━━━━━━\u001b[0m \u001b[32m138.4/138.4 kB\u001b[0m \u001b[31m17.8 MB/s\u001b[0m eta \u001b[36m0:00:00\u001b[0m\n",
            "\u001b[?25hRequirement already satisfied: importlib-metadata>=4.8.0 in /usr/local/lib/python3.10/dist-packages (from audobject>=0.6.1->opensmile) (7.1.0)\n",
            "Collecting oyaml (from audobject>=0.6.1->opensmile)\n",
            "  Downloading oyaml-1.0-py2.py3-none-any.whl (3.0 kB)\n",
            "Requirement already satisfied: packaging in /usr/local/lib/python3.10/dist-packages (from audobject>=0.6.1->opensmile) (24.0)\n",
            "Requirement already satisfied: tqdm in /usr/local/lib/python3.10/dist-packages (from audeer>=1.18.0->audinterface>=0.7.0->opensmile) (4.66.2)\n",
            "Collecting iso-639 (from audformat<2.0.0,>=1.0.1->audinterface>=0.7.0->opensmile)\n",
            "  Downloading iso-639-0.4.5.tar.gz (167 kB)\n",
            "\u001b[2K     \u001b[90m━━━━━━━━━━━━━━━━━━━━━━━━━━━━━━━━━━━━━━━━\u001b[0m \u001b[32m167.4/167.4 kB\u001b[0m \u001b[31m24.0 MB/s\u001b[0m eta \u001b[36m0:00:00\u001b[0m\n",
            "\u001b[?25h  Preparing metadata (setup.py) ... \u001b[?25l\u001b[?25hdone\n",
            "Collecting iso3166 (from audformat<2.0.0,>=1.0.1->audinterface>=0.7.0->opensmile)\n",
            "  Downloading iso3166-2.1.1-py3-none-any.whl (9.8 kB)\n",
            "Requirement already satisfied: pyyaml>=5.4.1 in /usr/local/lib/python3.10/dist-packages (from audformat<2.0.0,>=1.0.1->audinterface>=0.7.0->opensmile) (6.0.1)\n",
            "Requirement already satisfied: pandas>=1.4.1 in /usr/local/lib/python3.10/dist-packages (from audformat<2.0.0,>=1.0.1->audinterface>=0.7.0->opensmile) (2.0.3)\n",
            "Requirement already satisfied: numpy in /usr/local/lib/python3.10/dist-packages (from audiofile>=1.3.0->audinterface>=0.7.0->opensmile) (1.25.2)\n",
            "Requirement already satisfied: soundfile>=0.12.1 in /usr/local/lib/python3.10/dist-packages (from audiofile>=1.3.0->audinterface>=0.7.0->opensmile) (0.12.1)\n",
            "Requirement already satisfied: zipp>=0.5 in /usr/local/lib/python3.10/dist-packages (from importlib-metadata>=4.8.0->audobject>=0.6.1->opensmile) (3.18.1)\n",
            "Requirement already satisfied: python-dateutil>=2.8.2 in /usr/local/lib/python3.10/dist-packages (from pandas>=1.4.1->audformat<2.0.0,>=1.0.1->audinterface>=0.7.0->opensmile) (2.8.2)\n",
            "Requirement already satisfied: pytz>=2020.1 in /usr/local/lib/python3.10/dist-packages (from pandas>=1.4.1->audformat<2.0.0,>=1.0.1->audinterface>=0.7.0->opensmile) (2023.4)\n",
            "Requirement already satisfied: tzdata>=2022.1 in /usr/local/lib/python3.10/dist-packages (from pandas>=1.4.1->audformat<2.0.0,>=1.0.1->audinterface>=0.7.0->opensmile) (2024.1)\n",
            "Requirement already satisfied: cffi>=1.0 in /usr/local/lib/python3.10/dist-packages (from soundfile>=0.12.1->audiofile>=1.3.0->audinterface>=0.7.0->opensmile) (1.16.0)\n",
            "Requirement already satisfied: pycparser in /usr/local/lib/python3.10/dist-packages (from cffi>=1.0->soundfile>=0.12.1->audiofile>=1.3.0->audinterface>=0.7.0->opensmile) (2.22)\n",
            "Requirement already satisfied: six>=1.5 in /usr/local/lib/python3.10/dist-packages (from python-dateutil>=2.8.2->pandas>=1.4.1->audformat<2.0.0,>=1.0.1->audinterface>=0.7.0->opensmile) (1.16.0)\n",
            "Building wheels for collected packages: iso-639\n",
            "  Building wheel for iso-639 (setup.py) ... \u001b[?25l\u001b[?25hdone\n",
            "  Created wheel for iso-639: filename=iso_639-0.4.5-py3-none-any.whl size=168840 sha256=cf5e00b1bc70c551ae41babcc3ecf5661cb76504fa145bde5b316fb846788666\n",
            "  Stored in directory: /root/.cache/pip/wheels/d8/78/cc/5478ca3b1c3f602eae6f8cdbd78f909c0a0bfa0bbcb5c7771f\n",
            "Successfully built iso-639\n",
            "Installing collected packages: iso-639, oyaml, iso3166, audresample, audmath, audeer, audobject, audiofile, audformat, audinterface, opensmile\n",
            "Successfully installed audeer-2.0.0 audformat-1.1.3 audinterface-1.2.1 audiofile-1.4.0 audmath-1.4.0 audobject-0.7.11 audresample-1.3.3 iso-639-0.4.5 iso3166-2.1.1 opensmile-2.5.0 oyaml-1.0\n"
          ]
        }
      ]
    },
    {
      "cell_type": "code",
      "source": [
        "# 필요한 라이브러리 및 모듈 import\n",
        "import librosa\n",
        "import librosa.display\n",
        "import numpy as np\n",
        "import matplotlib.pyplot as plt\n",
        "import opensmile\n",
        "import pandas as pd\n",
        "import os"
      ],
      "metadata": {
        "id": "E9ZDq3bJqr84"
      },
      "execution_count": null,
      "outputs": []
    },
    {
      "cell_type": "code",
      "source": [
        "# opensmile 라이브러리 초기화\n",
        "smile = opensmile.Smile(\n",
        "    feature_set=opensmile.FeatureSet.GeMAPSv01b,\n",
        "    feature_level=opensmile.FeatureLevel.Functionals\n",
        ")"
      ],
      "metadata": {
        "id": "rXZbH3nUruVC"
      },
      "execution_count": null,
      "outputs": []
    },
    {
      "cell_type": "code",
      "source": [
        "# MFCC와 VSA 특징 추출 함수\n",
        "def preprocess_and_extract_mfcc_vsa(audio_data, sr=48000, n_mfcc=13):\n",
        "    # Extract MFCC features\n",
        "    mfccs = librosa.feature.mfcc(y=audio_data, sr=sr, n_mfcc=n_mfcc)\n",
        "\n",
        "    return mfccs\n",
        "\n",
        "def extract_vsa_features(audio_data, sr=48000):\n",
        "    # Process audio signal to extract VSA features\n",
        "    vsa_features = smile.process_signal(audio_data, sr)\n",
        "\n",
        "    return vsa_features"
      ],
      "metadata": {
        "id": "_IyyIML030PG"
      },
      "execution_count": null,
      "outputs": []
    },
    {
      "cell_type": "code",
      "source": [
        "# 보이스피셔와 피해자 wav 파일 디노이징 및 MFCC 추출\n",
        "def process_audio(audio_file):\n",
        "    # Load audio file\n",
        "    y, sr = librosa.load(audio_file, sr=None)\n",
        "\n",
        "    # Apply denoising (example: using spectral subtraction)\n",
        "    y_denoised = librosa.effects.preemphasis(y)\n",
        "\n",
        "    # Extract MFCC features\n",
        "    mfcc_features = preprocess_and_extract_mfcc_vsa(y_denoised)\n",
        "\n",
        "    # Extract VSA features\n",
        "    vsa_features = extract_vsa_features(y_denoised)\n",
        "\n",
        "    return mfcc_features, vsa_features"
      ],
      "metadata": {
        "id": "d7I2uCqK34rR"
      },
      "execution_count": null,
      "outputs": []
    },
    {
      "cell_type": "code",
      "source": [
        "# 보이스피셔와 피해자 wav 파일 경로\n",
        "voice_file = '/path/to/merged_voice_file.wav'\n",
        "victim_file = '/path/to/merged_victim_file.wav'"
      ],
      "metadata": {
        "id": "OWsFZ-cV39kH"
      },
      "execution_count": null,
      "outputs": []
    },
    {
      "cell_type": "code",
      "source": [
        "# 보이스피셔와 피해자 wav 파일 처리\n",
        "voice_mfcc, voice_vsa = process_audio(voice_file)\n",
        "victim_mfcc, victim_vsa = process_audio(victim_file)"
      ],
      "metadata": {
        "id": "xUSNXTK34At7"
      },
      "execution_count": null,
      "outputs": []
    },
    {
      "cell_type": "code",
      "source": [
        "# CSV 파일 저장\n",
        "voice_mfcc_df = pd.DataFrame(voice_mfcc)\n",
        "voice_mfcc_df.to_csv('/path/to/voice_mfcc.csv', index=False)\n",
        "\n",
        "voice_vsa_df = pd.DataFrame(voice_vsa)\n",
        "voice_vsa_df.to_csv('/path/to/voice_vsa.csv', index=False)\n",
        "\n",
        "victim_mfcc_df = pd.DataFrame(victim_mfcc)\n",
        "victim_mfcc_df.to_csv('/path/to/victim_mfcc.csv', index=False)\n",
        "\n",
        "victim_vsa_df = pd.DataFrame(victim_vsa)\n",
        "victim_vsa_df.to_csv('/path/to/victim_vsa.csv', index=False)"
      ],
      "metadata": {
        "id": "o7IN0hYc4FUp"
      },
      "execution_count": null,
      "outputs": []
    },
    {
      "cell_type": "code",
      "source": [
        "# 시각화\n",
        "plt.figure(figsize=(10, 4))\n",
        "librosa.display.specshow(voice_mfcc, x_axis='time')\n",
        "plt.colorbar()\n",
        "plt.title('Voice MFCC')\n",
        "plt.tight_layout()\n",
        "plt.show()\n",
        "\n",
        "plt.figure(figsize=(10, 6))\n",
        "plt.hist(voice_vsa, bins=62)\n",
        "plt.title('Voice VSA Histogram')\n",
        "plt.xlabel('Feature Value')\n",
        "plt.ylabel('Frequency')\n",
        "plt.grid(True)\n",
        "plt.show()\n",
        "\n",
        "plt.figure(figsize=(10, 4))\n",
        "librosa.display.specshow(victim_mfcc, x_axis='time')\n",
        "plt.colorbar()\n",
        "plt.title('Victim MFCC')\n",
        "plt.tight_layout()\n",
        "plt.show()\n",
        "\n",
        "plt.figure(figsize=(10, 6))\n",
        "plt.hist(victim_vsa, bins=62)\n",
        "plt.title('Victim VSA Histogram')\n",
        "plt.xlabel('Feature Value')\n",
        "plt.ylabel('Frequency')\n",
        "plt.grid(True)\n",
        "plt.show()"
      ],
      "metadata": {
        "id": "yIrJNmj34JQJ"
      },
      "execution_count": null,
      "outputs": []
    },
    {
      "cell_type": "code",
      "source": [
        "# 각 VSA 특징의 값을 출력\n",
        "for i, voice_feature_value in enumerate(voice_vsa):\n",
        "    print(f\"Voice VSA Feature {i+1}: {voice_feature_value}\")\n",
        "\n",
        "for i, victim_feature_value in enumerate(victim_vsa):\n",
        "    print(f\"Victim VSA Feature {i+1}: {victim_feature_value}\")"
      ],
      "metadata": {
        "id": "mBMjeuDuwzqs",
        "outputId": "b043f5f2-9c9a-4342-e045-b6f15b29da24",
        "colab": {
          "base_uri": "https://localhost:8080/"
        }
      },
      "execution_count": null,
      "outputs": [
        {
          "output_type": "stream",
          "name": "stdout",
          "text": [
            "VSA Feature 1: F0semitoneFrom27.5Hz_sma3nz_amean\n",
            "VSA Feature 2: F0semitoneFrom27.5Hz_sma3nz_stddevNorm\n",
            "VSA Feature 3: F0semitoneFrom27.5Hz_sma3nz_percentile20.0\n",
            "VSA Feature 4: F0semitoneFrom27.5Hz_sma3nz_percentile50.0\n",
            "VSA Feature 5: F0semitoneFrom27.5Hz_sma3nz_percentile80.0\n",
            "VSA Feature 6: F0semitoneFrom27.5Hz_sma3nz_pctlrange0-2\n",
            "VSA Feature 7: F0semitoneFrom27.5Hz_sma3nz_meanRisingSlope\n",
            "VSA Feature 8: F0semitoneFrom27.5Hz_sma3nz_stddevRisingSlope\n",
            "VSA Feature 9: F0semitoneFrom27.5Hz_sma3nz_meanFallingSlope\n",
            "VSA Feature 10: F0semitoneFrom27.5Hz_sma3nz_stddevFallingSlope\n",
            "VSA Feature 11: loudness_sma3_amean\n",
            "VSA Feature 12: loudness_sma3_stddevNorm\n",
            "VSA Feature 13: loudness_sma3_percentile20.0\n",
            "VSA Feature 14: loudness_sma3_percentile50.0\n",
            "VSA Feature 15: loudness_sma3_percentile80.0\n",
            "VSA Feature 16: loudness_sma3_pctlrange0-2\n",
            "VSA Feature 17: loudness_sma3_meanRisingSlope\n",
            "VSA Feature 18: loudness_sma3_stddevRisingSlope\n",
            "VSA Feature 19: loudness_sma3_meanFallingSlope\n",
            "VSA Feature 20: loudness_sma3_stddevFallingSlope\n",
            "VSA Feature 21: jitterLocal_sma3nz_amean\n",
            "VSA Feature 22: jitterLocal_sma3nz_stddevNorm\n",
            "VSA Feature 23: shimmerLocaldB_sma3nz_amean\n",
            "VSA Feature 24: shimmerLocaldB_sma3nz_stddevNorm\n",
            "VSA Feature 25: HNRdBACF_sma3nz_amean\n",
            "VSA Feature 26: HNRdBACF_sma3nz_stddevNorm\n",
            "VSA Feature 27: logRelF0-H1-H2_sma3nz_amean\n",
            "VSA Feature 28: logRelF0-H1-H2_sma3nz_stddevNorm\n",
            "VSA Feature 29: logRelF0-H1-A3_sma3nz_amean\n",
            "VSA Feature 30: logRelF0-H1-A3_sma3nz_stddevNorm\n",
            "VSA Feature 31: F1frequency_sma3nz_amean\n",
            "VSA Feature 32: F1frequency_sma3nz_stddevNorm\n",
            "VSA Feature 33: F1bandwidth_sma3nz_amean\n",
            "VSA Feature 34: F1bandwidth_sma3nz_stddevNorm\n",
            "VSA Feature 35: F1amplitudeLogRelF0_sma3nz_amean\n",
            "VSA Feature 36: F1amplitudeLogRelF0_sma3nz_stddevNorm\n",
            "VSA Feature 37: F2frequency_sma3nz_amean\n",
            "VSA Feature 38: F2frequency_sma3nz_stddevNorm\n",
            "VSA Feature 39: F2amplitudeLogRelF0_sma3nz_amean\n",
            "VSA Feature 40: F2amplitudeLogRelF0_sma3nz_stddevNorm\n",
            "VSA Feature 41: F3frequency_sma3nz_amean\n",
            "VSA Feature 42: F3frequency_sma3nz_stddevNorm\n",
            "VSA Feature 43: F3amplitudeLogRelF0_sma3nz_amean\n",
            "VSA Feature 44: F3amplitudeLogRelF0_sma3nz_stddevNorm\n",
            "VSA Feature 45: alphaRatioV_sma3nz_amean\n",
            "VSA Feature 46: alphaRatioV_sma3nz_stddevNorm\n",
            "VSA Feature 47: hammarbergIndexV_sma3nz_amean\n",
            "VSA Feature 48: hammarbergIndexV_sma3nz_stddevNorm\n",
            "VSA Feature 49: slopeV0-500_sma3nz_amean\n",
            "VSA Feature 50: slopeV0-500_sma3nz_stddevNorm\n",
            "VSA Feature 51: slopeV500-1500_sma3nz_amean\n",
            "VSA Feature 52: slopeV500-1500_sma3nz_stddevNorm\n",
            "VSA Feature 53: alphaRatioUV_sma3nz_amean\n",
            "VSA Feature 54: hammarbergIndexUV_sma3nz_amean\n",
            "VSA Feature 55: slopeUV0-500_sma3nz_amean\n",
            "VSA Feature 56: slopeUV500-1500_sma3nz_amean\n",
            "VSA Feature 57: loudnessPeaksPerSec\n",
            "VSA Feature 58: VoicedSegmentsPerSec\n",
            "VSA Feature 59: MeanVoicedSegmentLengthSec\n",
            "VSA Feature 60: StddevVoicedSegmentLengthSec\n",
            "VSA Feature 61: MeanUnvoicedSegmentLength\n",
            "VSA Feature 62: StddevUnvoicedSegmentLength\n"
          ]
        }
      ]
    }
  ]
}