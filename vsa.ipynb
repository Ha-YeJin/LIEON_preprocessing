{
  "nbformat": 4,
  "nbformat_minor": 0,
  "metadata": {
    "colab": {
      "provenance": [],
      "gpuType": "T4",
      "mount_file_id": "https://github.com/yezzzzin/LIEON_preprocessing/blob/main/vsa.ipynb",
      "authorship_tag": "ABX9TyOxo2W4NEJTXIFrq5OLv13E",
      "include_colab_link": true
    },
    "kernelspec": {
      "name": "python3",
      "display_name": "Python 3"
    },
    "language_info": {
      "name": "python"
    },
    "accelerator": "GPU"
  },
  "cells": [
    {
      "cell_type": "markdown",
      "metadata": {
        "id": "view-in-github",
        "colab_type": "text"
      },
      "source": [
        "<a href=\"https://colab.research.google.com/github/yezzzzin/LIEON_preprocessing/blob/main/vsa.ipynb\" target=\"_parent\"><img src=\"https://colab.research.google.com/assets/colab-badge.svg\" alt=\"Open In Colab\"/></a>"
      ]
    },
    {
      "cell_type": "code",
      "source": [
        "!pip install opensmile"
      ],
      "metadata": {
        "id": "gRDQp2XeqraH",
        "outputId": "14a8c91c-8118-4ce5-9d54-57d6619dcfa6",
        "colab": {
          "base_uri": "https://localhost:8080/"
        }
      },
      "execution_count": null,
      "outputs": [
        {
          "output_type": "stream",
          "name": "stdout",
          "text": [
            "Collecting opensmile\n",
            "  Downloading opensmile-2.5.0-py3-none-manylinux_2_17_x86_64.whl (996 kB)\n",
            "\u001b[2K     \u001b[90m━━━━━━━━━━━━━━━━━━━━━━━━━━━━━━━━━━━━━━━━\u001b[0m \u001b[32m996.2/996.2 kB\u001b[0m \u001b[31m6.3 MB/s\u001b[0m eta \u001b[36m0:00:00\u001b[0m\n",
            "\u001b[?25hCollecting audobject>=0.6.1 (from opensmile)\n",
            "  Downloading audobject-0.7.11-py3-none-any.whl (43 kB)\n",
            "\u001b[2K     \u001b[90m━━━━━━━━━━━━━━━━━━━━━━━━━━━━━━━━━━━━━━━━\u001b[0m \u001b[32m44.0/44.0 kB\u001b[0m \u001b[31m6.6 MB/s\u001b[0m eta \u001b[36m0:00:00\u001b[0m\n",
            "\u001b[?25hCollecting audinterface>=0.7.0 (from opensmile)\n",
            "  Downloading audinterface-1.2.1-py3-none-any.whl (66 kB)\n",
            "\u001b[2K     \u001b[90m━━━━━━━━━━━━━━━━━━━━━━━━━━━━━━━━━━━━━━━━\u001b[0m \u001b[32m66.8/66.8 kB\u001b[0m \u001b[31m9.9 MB/s\u001b[0m eta \u001b[36m0:00:00\u001b[0m\n",
            "\u001b[?25hCollecting audeer>=1.18.0 (from audinterface>=0.7.0->opensmile)\n",
            "  Downloading audeer-2.0.0-py3-none-any.whl (39 kB)\n",
            "Collecting audformat<2.0.0,>=1.0.1 (from audinterface>=0.7.0->opensmile)\n",
            "  Downloading audformat-1.1.3-py3-none-any.whl (141 kB)\n",
            "\u001b[2K     \u001b[90m━━━━━━━━━━━━━━━━━━━━━━━━━━━━━━━━━━━━━━━━\u001b[0m \u001b[32m141.7/141.7 kB\u001b[0m \u001b[31m20.9 MB/s\u001b[0m eta \u001b[36m0:00:00\u001b[0m\n",
            "\u001b[?25hCollecting audiofile>=1.3.0 (from audinterface>=0.7.0->opensmile)\n",
            "  Downloading audiofile-1.4.0-py3-none-any.whl (1.1 MB)\n",
            "\u001b[2K     \u001b[90m━━━━━━━━━━━━━━━━━━━━━━━━━━━━━━━━━━━━━━━━\u001b[0m \u001b[32m1.1/1.1 MB\u001b[0m \u001b[31m24.4 MB/s\u001b[0m eta \u001b[36m0:00:00\u001b[0m\n",
            "\u001b[?25hCollecting audmath>=1.3.0 (from audinterface>=0.7.0->opensmile)\n",
            "  Downloading audmath-1.4.0-py3-none-any.whl (23 kB)\n",
            "Collecting audresample<2.0.0,>=1.1.0 (from audinterface>=0.7.0->opensmile)\n",
            "  Downloading audresample-1.3.3-py3-none-manylinux_2_17_x86_64.whl (138 kB)\n",
            "\u001b[2K     \u001b[90m━━━━━━━━━━━━━━━━━━━━━━━━━━━━━━━━━━━━━━━━\u001b[0m \u001b[32m138.4/138.4 kB\u001b[0m \u001b[31m17.8 MB/s\u001b[0m eta \u001b[36m0:00:00\u001b[0m\n",
            "\u001b[?25hRequirement already satisfied: importlib-metadata>=4.8.0 in /usr/local/lib/python3.10/dist-packages (from audobject>=0.6.1->opensmile) (7.1.0)\n",
            "Collecting oyaml (from audobject>=0.6.1->opensmile)\n",
            "  Downloading oyaml-1.0-py2.py3-none-any.whl (3.0 kB)\n",
            "Requirement already satisfied: packaging in /usr/local/lib/python3.10/dist-packages (from audobject>=0.6.1->opensmile) (24.0)\n",
            "Requirement already satisfied: tqdm in /usr/local/lib/python3.10/dist-packages (from audeer>=1.18.0->audinterface>=0.7.0->opensmile) (4.66.2)\n",
            "Collecting iso-639 (from audformat<2.0.0,>=1.0.1->audinterface>=0.7.0->opensmile)\n",
            "  Downloading iso-639-0.4.5.tar.gz (167 kB)\n",
            "\u001b[2K     \u001b[90m━━━━━━━━━━━━━━━━━━━━━━━━━━━━━━━━━━━━━━━━\u001b[0m \u001b[32m167.4/167.4 kB\u001b[0m \u001b[31m24.0 MB/s\u001b[0m eta \u001b[36m0:00:00\u001b[0m\n",
            "\u001b[?25h  Preparing metadata (setup.py) ... \u001b[?25l\u001b[?25hdone\n",
            "Collecting iso3166 (from audformat<2.0.0,>=1.0.1->audinterface>=0.7.0->opensmile)\n",
            "  Downloading iso3166-2.1.1-py3-none-any.whl (9.8 kB)\n",
            "Requirement already satisfied: pyyaml>=5.4.1 in /usr/local/lib/python3.10/dist-packages (from audformat<2.0.0,>=1.0.1->audinterface>=0.7.0->opensmile) (6.0.1)\n",
            "Requirement already satisfied: pandas>=1.4.1 in /usr/local/lib/python3.10/dist-packages (from audformat<2.0.0,>=1.0.1->audinterface>=0.7.0->opensmile) (2.0.3)\n",
            "Requirement already satisfied: numpy in /usr/local/lib/python3.10/dist-packages (from audiofile>=1.3.0->audinterface>=0.7.0->opensmile) (1.25.2)\n",
            "Requirement already satisfied: soundfile>=0.12.1 in /usr/local/lib/python3.10/dist-packages (from audiofile>=1.3.0->audinterface>=0.7.0->opensmile) (0.12.1)\n",
            "Requirement already satisfied: zipp>=0.5 in /usr/local/lib/python3.10/dist-packages (from importlib-metadata>=4.8.0->audobject>=0.6.1->opensmile) (3.18.1)\n",
            "Requirement already satisfied: python-dateutil>=2.8.2 in /usr/local/lib/python3.10/dist-packages (from pandas>=1.4.1->audformat<2.0.0,>=1.0.1->audinterface>=0.7.0->opensmile) (2.8.2)\n",
            "Requirement already satisfied: pytz>=2020.1 in /usr/local/lib/python3.10/dist-packages (from pandas>=1.4.1->audformat<2.0.0,>=1.0.1->audinterface>=0.7.0->opensmile) (2023.4)\n",
            "Requirement already satisfied: tzdata>=2022.1 in /usr/local/lib/python3.10/dist-packages (from pandas>=1.4.1->audformat<2.0.0,>=1.0.1->audinterface>=0.7.0->opensmile) (2024.1)\n",
            "Requirement already satisfied: cffi>=1.0 in /usr/local/lib/python3.10/dist-packages (from soundfile>=0.12.1->audiofile>=1.3.0->audinterface>=0.7.0->opensmile) (1.16.0)\n",
            "Requirement already satisfied: pycparser in /usr/local/lib/python3.10/dist-packages (from cffi>=1.0->soundfile>=0.12.1->audiofile>=1.3.0->audinterface>=0.7.0->opensmile) (2.22)\n",
            "Requirement already satisfied: six>=1.5 in /usr/local/lib/python3.10/dist-packages (from python-dateutil>=2.8.2->pandas>=1.4.1->audformat<2.0.0,>=1.0.1->audinterface>=0.7.0->opensmile) (1.16.0)\n",
            "Building wheels for collected packages: iso-639\n",
            "  Building wheel for iso-639 (setup.py) ... \u001b[?25l\u001b[?25hdone\n",
            "  Created wheel for iso-639: filename=iso_639-0.4.5-py3-none-any.whl size=168840 sha256=cf5e00b1bc70c551ae41babcc3ecf5661cb76504fa145bde5b316fb846788666\n",
            "  Stored in directory: /root/.cache/pip/wheels/d8/78/cc/5478ca3b1c3f602eae6f8cdbd78f909c0a0bfa0bbcb5c7771f\n",
            "Successfully built iso-639\n",
            "Installing collected packages: iso-639, oyaml, iso3166, audresample, audmath, audeer, audobject, audiofile, audformat, audinterface, opensmile\n",
            "Successfully installed audeer-2.0.0 audformat-1.1.3 audinterface-1.2.1 audiofile-1.4.0 audmath-1.4.0 audobject-0.7.11 audresample-1.3.3 iso-639-0.4.5 iso3166-2.1.1 opensmile-2.5.0 oyaml-1.0\n"
          ]
        }
      ]
    },
    {
      "cell_type": "code",
      "source": [
        "# 필요한 라이브러리 및 모듈 import\n",
        "import pandas as pd\n",
        "import librosa\n",
        "import librosa.display\n",
        "import numpy as np\n",
        "import matplotlib.pyplot as plt\n",
        "import opensmile"
      ],
      "metadata": {
        "id": "E9ZDq3bJqr84"
      },
      "execution_count": null,
      "outputs": []
    },
    {
      "cell_type": "code",
      "source": [
        "# opensmile 라이브러리 초기화\n",
        "smile = opensmile.Smile(\n",
        "    feature_set=opensmile.FeatureSet.GeMAPSv01b,\n",
        "    feature_level=opensmile.FeatureLevel.Functionals\n",
        ")"
      ],
      "metadata": {
        "id": "rXZbH3nUruVC"
      },
      "execution_count": null,
      "outputs": []
    },
    {
      "cell_type": "code",
      "source": [
        "# 라벨이 있는 CSV 파일 경로\n",
        "labeled_csv_file = '/content/drive/MyDrive/labeled_data.csv'"
      ],
      "metadata": {
        "id": "TSVzY5v2sTw5"
      },
      "execution_count": null,
      "outputs": []
    },
    {
      "cell_type": "code",
      "source": [
        "# 라벨이 있는 CSV 파일을 복제하여 라벨을 제거한 새로운 CSV 파일을 생성하는 함수\n",
        "def remove_label_from_csv(input_csv_file, output_csv_file):\n",
        "    # 입력 CSV 파일을 읽어옴\n",
        "    labeled_data = pd.read_csv(input_csv_file)\n",
        "\n",
        "    # 라벨 열 따로 저장\n",
        "    labels = labeled_data['label']\n",
        "\n",
        "    # 라벨 열을 제거하여 새로운 DataFrame 생성\n",
        "    new_data = labeled_data.drop(columns=['label'])\n",
        "\n",
        "    # 새로운 CSV 파일로 저장\n",
        "    new_data.to_csv(output_csv_file, index=False)\n",
        "\n",
        "    # 라벨을 따로 저장\n",
        "    labels.to_csv('/content/drive/MyDrive/labels.csv', index=False)"
      ],
      "metadata": {
        "id": "WtKrbWYdscc7"
      },
      "execution_count": null,
      "outputs": []
    },
    {
      "cell_type": "code",
      "source": [
        "# 함수 호출하여 라벨이 없는 새로운 CSV 파일 생성\n",
        "remove_label_from_csv(labeled_csv_file, '/content/drive/MyDrive/labeled_data_without_label.csv')"
      ],
      "metadata": {
        "id": "OgNzC3-usjru"
      },
      "execution_count": null,
      "outputs": []
    },
    {
      "cell_type": "code",
      "source": [
        "# 라벨이 없는 CSV 파일 경로\n",
        "csv_file_without_label = '/content/drive/MyDrive/labeled_data_without_label.csv'"
      ],
      "metadata": {
        "id": "sj-TMUhJsrrb"
      },
      "execution_count": null,
      "outputs": []
    },
    {
      "cell_type": "code",
      "source": [
        "# CSV 파일로부터 WAV 파일로 변환하는 함수\n",
        "def csv_to_wav(input_csv_file, output_wav_file):\n",
        "    # CSV 파일 읽기\n",
        "    df = pd.read_csv(input_csv_file)\n",
        "\n",
        "    # DataFrame을 numpy 배열로 변환\n",
        "    data = df.to_numpy()\n",
        "\n",
        "    # WAV 파일로 변환\n",
        "    librosa.output.write_wav(output_wav_file, data, sr=48000)"
      ],
      "metadata": {
        "id": "2Aby5RZ0srHg"
      },
      "execution_count": null,
      "outputs": []
    },
    {
      "cell_type": "code",
      "source": [
        "# MFCC 추출 함수\n",
        "def extract_mfcc(input_wav_file):\n",
        "    # Load audio file\n",
        "    y, sr = librosa.load(input_wav_file)\n",
        "\n",
        "    # Extract MFCC features\n",
        "    mfccs = librosa.feature.mfcc(y=y, sr=sr, n_mfcc=13)\n",
        "\n",
        "    return mfccs\n",
        "\n",
        "# 시각화 함수\n",
        "def visualize_mfcc(mfccs):\n",
        "    plt.figure(figsize=(10, 4))\n",
        "    librosa.display.specshow(mfccs, x_axis='time')\n",
        "    plt.colorbar()\n",
        "    plt.title('MFCC')\n",
        "    plt.tight_layout()\n",
        "    plt.show()"
      ],
      "metadata": {
        "id": "3dMSZPPOs-r6"
      },
      "execution_count": null,
      "outputs": []
    },
    {
      "cell_type": "code",
      "source": [
        "# CSV 파일로 변환하는 함수\n",
        "def mfcc_to_csv(mfccs, output_csv_file):\n",
        "    # DataFrame으로 변환\n",
        "    df = pd.DataFrame(mfccs.T)\n",
        "\n",
        "    # CSV 파일로 저장\n",
        "    df.to_csv(output_csv_file, index=False)"
      ],
      "metadata": {
        "id": "nqibzkgDtE2f"
      },
      "execution_count": null,
      "outputs": []
    },
    {
      "cell_type": "code",
      "source": [
        "# 라벨을 다시 적용하는 함수\n",
        "def reapply_labels(original_csv_file, labels_csv_file, output_csv_file):\n",
        "    # 원본 CSV 파일과 라벨 파일 읽기\n",
        "    original_df = pd.read_csv(original_csv_file)\n",
        "    labels_df = pd.read_csv(labels_csv_file)\n",
        "\n",
        "    # 라벨 열 추가\n",
        "    original_df['label'] = labels_df['label']\n",
        "\n",
        "    # 새로운 CSV 파일로 저장\n",
        "    original_df.to_csv(output_csv_file, index=False)"
      ],
      "metadata": {
        "id": "dr8TmT4OtRH7"
      },
      "execution_count": null,
      "outputs": []
    },
    {
      "cell_type": "code",
      "source": [
        "# 1. CSV 파일을 WAV 파일로 변환\n",
        "output_wav_file = '/content/drive/MyDrive/labeled_data_without_label.wav'\n",
        "csv_to_wav(csv_file_without_label, output_wav_file)\n",
        "\n",
        "# 2. WAV 파일에서 MFCC 추출\n",
        "mfccs = extract_mfcc(output_wav_file)\n",
        "\n",
        "# 3. MFCC 시각화\n",
        "visualize_mfcc(mfccs)\n",
        "\n",
        "# 4. MFCC를 CSV 파일로 저장\n",
        "output_mfcc_csv_file = '/content/drive/MyDrive/labeled_mfcc_data.csv'\n",
        "mfcc_to_csv(mfccs, output_mfcc_csv_file)\n",
        "\n",
        "# 5. 원래 라벨 파일 경로\n",
        "labels_csv_file = '/content/drive/MyDrive/labels.csv'\n",
        "\n",
        "# 라벨을 다시 적용한 CSV 파일 생성\n",
        "reapplied_labels_csv_file = '/content/drive/MyDrive/labeled_mfcc_data_with_labels.csv'\n",
        "reapply_labels(output_mfcc_csv_file, labels_csv_file, reapplied_labels_csv_file)"
      ],
      "metadata": {
        "id": "9CpxOOo8tU1p"
      },
      "execution_count": null,
      "outputs": []
    },
    {
      "cell_type": "code",
      "source": [
        "# VSA 추출 함수\n",
        "def extract_vsa(input_wav_file):\n",
        "    # Load audio file\n",
        "    y, sr = librosa.load(input_wav_file)\n",
        "\n",
        "    # Process audio signal to extract VSA features\n",
        "    vsa_features = smile.process_signal(y, sr)\n",
        "\n",
        "    return vsa_features"
      ],
      "metadata": {
        "id": "YxiMj9MPtahV"
      },
      "execution_count": null,
      "outputs": []
    },
    {
      "cell_type": "code",
      "source": [
        "# VSA 추출\n",
        "vsa_features = extract_vsa(output_wav_file)"
      ],
      "metadata": {
        "id": "cU5fnRwNvFTD"
      },
      "execution_count": null,
      "outputs": []
    },
    {
      "cell_type": "code",
      "source": [
        "# VSA를 CSV 파일로 저장\n",
        "output_vsa_csv_file = '/content/drive/MyDrive/labeled_vsa_data.csv'\n",
        "mfcc_to_csv(vsa_features, output_vsa_csv_file)"
      ],
      "metadata": {
        "id": "ypB0JD04s65Q"
      },
      "execution_count": null,
      "outputs": []
    },
    {
      "cell_type": "code",
      "source": [
        "# VSA에 기존의 라벨을 다시 적용한 CSV 파일 생성\n",
        "reapplied_labels_csv_file_vsa = '/content/drive/MyDrive/labeled_vsa_data_with_labels.csv'\n",
        "reapply_labels(output_vsa_csv_file, labels_csv_file, reapplied_labels_csv_file_vsa)"
      ],
      "metadata": {
        "id": "pfpAKNWavLu_"
      },
      "execution_count": null,
      "outputs": []
    }
  ]
}