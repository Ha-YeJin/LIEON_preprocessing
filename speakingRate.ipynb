{
  "nbformat": 4,
  "nbformat_minor": 0,
  "metadata": {
    "colab": {
      "provenance": [],
      "mount_file_id": "1uI4slU4TGz2J5m-6ENDTuRexPM0TBqS-",
      "authorship_tag": "ABX9TyOOJPoIycvUtGmIs8sMhGlz",
      "include_colab_link": true
    },
    "kernelspec": {
      "name": "python3",
      "display_name": "Python 3"
    },
    "language_info": {
      "name": "python"
    }
  },
  "cells": [
    {
      "cell_type": "markdown",
      "metadata": {
        "id": "view-in-github",
        "colab_type": "text"
      },
      "source": [
        "<a href=\"https://colab.research.google.com/github/yezzzzin/LIEON_preprocessing/blob/main/speakingRate.ipynb\" target=\"_parent\"><img src=\"https://colab.research.google.com/assets/colab-badge.svg\" alt=\"Open In Colab\"/></a>"
      ]
    },
    {
      "cell_type": "code",
      "execution_count": 2,
      "metadata": {
        "id": "kDr1dxCU_vwW"
      },
      "outputs": [],
      "source": [
        "import numpy as np\n",
        "import matplotlib.pyplot as plt\n",
        "from scipy.io import wavfile"
      ]
    },
    {
      "cell_type": "code",
      "source": [
        "def extract_speaking_rate_from_wav(file_path):\n",
        "    # WAV 파일 로드\n",
        "    rate, data = wavfile.read(file_path)\n",
        "\n",
        "    # 음성 파일의 길이를 초로 계산하여 말하기 속도 계산\n",
        "    duration = len(data) / rate\n",
        "    speaking_rate = 1 / duration  # 음성 파일의 길이를 초당 단어 수로 나눔\n",
        "\n",
        "    return speaking_rate"
      ],
      "metadata": {
        "id": "-HodS_tP_zQu"
      },
      "execution_count": 3,
      "outputs": []
    },
    {
      "cell_type": "code",
      "source": [
        "# WAV 파일 경로\n",
        "file_path = \"/content/drive/MyDrive/전체 데이터셋.wav\""
      ],
      "metadata": {
        "id": "ZfaPBeAe_20w"
      },
      "execution_count": 4,
      "outputs": []
    },
    {
      "cell_type": "code",
      "source": [
        "# speaking rate 추출\n",
        "speaking_rate = extract_speaking_rate_from_wav(file_path)"
      ],
      "metadata": {
        "id": "jMvzlkzJ_4l5"
      },
      "execution_count": 5,
      "outputs": []
    },
    {
      "cell_type": "code",
      "source": [
        "# 결과 출력\n",
        "print(\"Speaking Rate:\", speaking_rate, \"words per second\")"
      ],
      "metadata": {
        "colab": {
          "base_uri": "https://localhost:8080/"
        },
        "id": "1Nku_kyx_7RS",
        "outputId": "ac9227d8-33d5-40f2-9bb0-28271220cb3d"
      },
      "execution_count": 6,
      "outputs": [
        {
          "output_type": "stream",
          "name": "stdout",
          "text": [
            "Speaking Rate: 0.00014433001476432905 words per second\n"
          ]
        }
      ]
    }
  ]
}