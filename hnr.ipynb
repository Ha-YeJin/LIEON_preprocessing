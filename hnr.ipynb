{
  "nbformat": 4,
  "nbformat_minor": 0,
  "metadata": {
    "colab": {
      "provenance": [],
      "gpuType": "V28",
      "mount_file_id": "1Iq16Wd_HTw2VfHZ8CrDB8SINEEc_jTOD",
      "authorship_tag": "ABX9TyP5u0m/+ZLDySzcCiNr/Xpy",
      "include_colab_link": true
    },
    "kernelspec": {
      "name": "python3",
      "display_name": "Python 3"
    },
    "language_info": {
      "name": "python"
    },
    "accelerator": "TPU"
  },
  "cells": [
    {
      "cell_type": "markdown",
      "metadata": {
        "id": "view-in-github",
        "colab_type": "text"
      },
      "source": [
        "<a href=\"https://colab.research.google.com/github/yezzzzin/LIEON_preprocessing/blob/main/hnr.ipynb\" target=\"_parent\"><img src=\"https://colab.research.google.com/assets/colab-badge.svg\" alt=\"Open In Colab\"/></a>"
      ]
    },
    {
      "cell_type": "code",
      "execution_count": 26,
      "metadata": {
        "id": "7LbJsJD8zI78"
      },
      "outputs": [],
      "source": [
        "import numpy as np\n",
        "from scipy.io import wavfile\n",
        "from scipy.signal import lfilter"
      ]
    },
    {
      "cell_type": "code",
      "source": [
        "def extract_hnr_from_wav(file_path):\n",
        "    # WAV 파일 로드\n",
        "    rate, data = wavfile.read(file_path)\n",
        "\n",
        "    # 2차원 배열을 1차원으로 변환 (여기서는 첫 번째 채널을 사용)\n",
        "    if data.ndim == 2:\n",
        "        data = data[:, 0]\n",
        "\n",
        "    # 자동 회귀(AR) 모델 구하기\n",
        "    p = 16  # AR 모델의 차수\n",
        "    ar_coeffs = np.polyfit(data, lfilter([1.0], [1.0, *np.zeros(p-1), 1], data), p)\n",
        "\n",
        "    # HNR 추출\n",
        "    hnr = 10 * np.log10(np.var(lfilter([1.0], ar_coeffs, data)) / np.var(data))\n",
        "\n",
        "    return hnr"
      ],
      "metadata": {
        "id": "qT3H7qiTzWqJ"
      },
      "execution_count": 30,
      "outputs": []
    },
    {
      "cell_type": "code",
      "source": [
        "# WAV 파일 경로\n",
        "file_path = \"/content/drive/MyDrive/보이스피싱 실제 통화내용_[cut_39sec].wav\""
      ],
      "metadata": {
        "id": "ho7OqeUpzjn7"
      },
      "execution_count": 31,
      "outputs": []
    },
    {
      "cell_type": "code",
      "source": [
        "# HNR 추출\n",
        "hnr = extract_hnr_from_wav(file_path)"
      ],
      "metadata": {
        "id": "j9rex-oIzmRK"
      },
      "execution_count": 32,
      "outputs": []
    },
    {
      "cell_type": "code",
      "source": [
        "# HNR 값 출력\n",
        "print(\"HNR:\", hnr)"
      ],
      "metadata": {
        "colab": {
          "base_uri": "https://localhost:8080/"
        },
        "id": "7-yC_OoWzovW",
        "outputId": "c90f17f7-cf12-4f68-ed33-e8af2d888104"
      },
      "execution_count": 33,
      "outputs": [
        {
          "output_type": "stream",
          "name": "stdout",
          "text": [
            "HNR: nan\n"
          ]
        }
      ]
    }
  ]
}